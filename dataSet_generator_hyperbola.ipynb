{
 "cells": [
  {
   "cell_type": "code",
   "execution_count": 13,
   "metadata": {},
   "outputs": [
    {
     "name": "stdout",
     "output_type": "stream",
     "text": [
      "\n"
     ]
    }
   ],
   "source": [
    "from PIL import Image\n",
    "import matplotlib.pyplot as plt\n",
    "from matplotlib import image as im\n",
    "import numpy as np\n",
    "import os\n",
    "from sklearn.utils import Bunch\n",
    "scale_percent = 100\n",
    "image_count = []\n",
    "total_image_count = 0\n",
    "s = ['hyperbola', 'background']\n",
    "label_type = [1, 0]\n",
    "count = 0\n",
    "for image_index in s:\n",
    "    path = f'processed/cropped/200_40/datasetA_200_10/{image_index}/'\n",
    "    if not os.path.exists(path):\n",
    "        continue\n",
    "    \n",
    "    for file_name in os.listdir(path):\n",
    "        if file_name.endswith(\".jpg\"):\n",
    "            count += 1\n",
    "image_count.append(count)\n",
    "total_image_count += count\n",
    "\n",
    "# sliding window parameters set up\n",
    "sliding_window_size = 200\n",
    "data = np.zeros([total_image_count, int(sliding_window_size*scale_percent*0.01), int(sliding_window_size*scale_percent*0.01)])\n",
    "depth = np.zeros(total_image_count)\n",
    "labels = np.zeros(total_image_count)\n",
    "count = 0\n",
    "\n",
    "for i, image_index in enumerate(s):\n",
    "    path = f'processed/cropped/200_40/datasetA_200_10/{image_index}/'\n",
    "    if not os.path.exists(path):\n",
    "        continue\n",
    "\n",
    "    image_count = 0\n",
    "    images = []\n",
    "    for file_name in os.listdir(path):\n",
    "        if file_name.endswith(\".jpg\"):\n",
    "#           image = Image.open(f'{path}{file_name}')\n",
    "            image = im.imread(f'{path}{file_name}')\n",
    "            #trans into grayscale\n",
    "            rgb_weights = [0.2989, 0.5870, 0.1140]\n",
    "            image = np.dot(image[...,:3], rgb_weights)\n",
    "#           images.append(np.array(image))\n",
    "            images.append(resizeImage(image, scale_percent))\n",
    "            depth[count + image_count] = int(file_name.split(\"_\")[0])\n",
    "            image_count += 1\n",
    "    data[count:count + image_count] = np.array(images)\n",
    "    labels[count:count + image_count] = np.ones(len(images)) * label_type[i]\n",
    "    count += image_count \n",
    "\n",
    "data = data.astype(np.uint8)\n",
    "depth = depth.astype(np.uint16)\n",
    "labels = labels.astype(np.uint8)\n",
    "print()\n",
    "# check = image_count[0] + image_count[1]\n",
    "# print(labels[check])\n",
    "# print(data[check].shape)\n",
    "# plt.imshow(data[check], cmap='gray')\n",
    "    \n",
    "n = 100; #image numbers\n",
    "# images=np.zeros(shape=(2*n, sliding_window_size, sliding_window_size))\n",
    "# labels=np.zeros(shape=(2*n,1))\n",
    "# for j in range(0,2): \n",
    "#     for i in range(1,n+1):\n",
    "#         filename = 'C:/Users/KLAB/pictures/CNN/'+s[j]+str(i)+'.PNG'\n",
    "#         image= Image.open(filename)\n",
    "#         images[i-1+n*j]=np.array(image)\n",
    "#         labels[i-1+n*j]=j\n",
    "#         print(filename)\n",
    "#         plt.imshow(images[i-1],cmap='gray')\n",
    "\n",
    "np.savez(str(total_image_count)+'_datasetA.npz', data=data, depth=depth, label=labels)"
   ]
  },
  {
   "cell_type": "code",
   "execution_count": 1,
   "metadata": {},
   "outputs": [],
   "source": [
    "import cv2\n",
    "def resizeImage(image, scale_percent):\n",
    "    width = int(image.shape[1] * scale_percent / 100)\n",
    "    height = int(image.shape[0] * scale_percent / 100)\n",
    "    dim = (width, height)\n",
    "    # resize image\n",
    "    resized = cv2.resize(image, dim, interpolation = cv2.INTER_AREA)\n",
    "    return resized"
   ]
  },
  {
   "cell_type": "code",
   "execution_count": 18,
   "metadata": {},
   "outputs": [
    {
     "name": "stdout",
     "output_type": "stream",
     "text": [
      "(54,)\n",
      "(733,)\n"
     ]
    }
   ],
   "source": [
    "npdata = np.load(f'1776_datasetC.npz')\n",
    "depth = npdata['depth']\n",
    "label = npdata['label']\n",
    "print(depth[depth == 800].shape)\n",
    "print(label[label == 1].shape)"
   ]
  }
 ],
 "metadata": {
  "kernelspec": {
   "display_name": "Python 3 (ipykernel)",
   "language": "python",
   "name": "python3"
  },
  "language_info": {
   "codemirror_mode": {
    "name": "ipython",
    "version": 3
   },
   "file_extension": ".py",
   "mimetype": "text/x-python",
   "name": "python",
   "nbconvert_exporter": "python",
   "pygments_lexer": "ipython3",
   "version": "3.10.0"
  },
  "vscode": {
   "interpreter": {
    "hash": "369f2c481f4da34e4445cda3fffd2e751bd1c4d706f27375911949ba6bb62e1c"
   }
  }
 },
 "nbformat": 4,
 "nbformat_minor": 4
}
