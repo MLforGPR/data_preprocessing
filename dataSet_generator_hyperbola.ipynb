{
 "cells": [
  {
   "cell_type": "code",
   "execution_count": null,
   "metadata": {},
   "outputs": [],
   "source": [
    "import cv2\n",
    "def resizeImage(image, scale_percent):\n",
    "    width = int(image.shape[1] * scale_percent / 100)\n",
    "    height = int(image.shape[0] * scale_percent / 100)\n",
    "    dim = (width, height)\n",
    "    # resize image\n",
    "    resized = cv2.resize(image, dim, interpolation = cv2.INTER_AREA)\n",
    "    return resized"
   ]
  },
  {
   "cell_type": "code",
   "execution_count": null,
   "metadata": {},
   "outputs": [],
   "source": [
    "from PIL import Image\n",
    "import matplotlib.pyplot as plt\n",
    "from matplotlib import image as im\n",
    "import numpy as np\n",
    "import os\n",
    "from sklearn.utils import Bunch\n",
    "scale_percent = 100\n",
    "image_count_s = []\n",
    "total_image_count = 0\n",
    "s = ['1', '5']\n",
    "label_type = [1, 0]\n",
    "image_count_s = [1415, 1415 * 5]\n",
    "count = 1415 * 6\n",
    "total_image_count += count\n",
    "\n",
    "# sliding window parameters set up\n",
    "sliding_window_size = 200\n",
    "data = np.zeros([total_image_count, int(sliding_window_size*scale_percent*0.01), int(sliding_window_size*scale_percent*0.01)])\n",
    "depth = np.zeros(total_image_count)\n",
    "labels = np.zeros(total_image_count)\n",
    "count = 0\n",
    "\n",
    "for i, image_index in enumerate(s):\n",
    "    path = f'unprocessed_images/cropped/200_40/test_1st2ndDataset/{image_index}/'\n",
    "    if not os.path.exists(path):\n",
    "        continue\n",
    "\n",
    "    image_count = 0\n",
    "    images = []\n",
    "    if i == 0:\n",
    "        for file_name in os.listdir(path):\n",
    "            if file_name.endswith(\".jpg\"):\n",
    "                image = im.imread(f'{path}{file_name}')\n",
    "                #trans into grayscale\n",
    "                rgb_weights = [0.2989, 0.5870, 0.1140]\n",
    "                image = np.dot(image[...,:3], rgb_weights)\n",
    "                images.append(resizeImage(image, scale_percent))\n",
    "                depth[count + image_count] = int(file_name.split(\"_\")[0])\n",
    "                image_count += 1\n",
    "    else:\n",
    "        n = len(os.listdir(path))\n",
    "        random_image_index = set(np.random.randint(n, size=image_count_s[i]))\n",
    "        for j, file_name in enumerate(os.listdir(path)):\n",
    "            if j in random_image_index and file_name.endswith(\".jpg\"):\n",
    "                image = im.imread(f'{path}{file_name}')\n",
    "                #trans into grayscale\n",
    "                rgb_weights = [0.2989, 0.5870, 0.1140]\n",
    "                image = np.dot(image[...,:3], rgb_weights)\n",
    "                images.append(resizeImage(image, scale_percent))\n",
    "                depth[count + image_count] = int(file_name.split(\"_\")[0])\n",
    "                image_count += 1 \n",
    "        \n",
    "    data[count:count + image_count] = np.array(images)\n",
    "    labels[count:count + image_count] = np.ones(len(images)) * label_type[i]\n",
    "    count += image_count \n",
    "\n",
    "data = data.astype(np.uint8)\n",
    "depth = depth.astype(np.uint16)\n",
    "labels = labels.astype(np.uint8)\n",
    "\n",
    "np.savez(str(total_image_count)+'_datasetA.npz', data=data, depth=depth, label=labels)"
   ]
  },
  {
   "cell_type": "code",
   "execution_count": null,
   "metadata": {},
   "outputs": [],
   "source": [
    "npdata = np.load(f'3306_dataset.npz')\n",
    "depth = npdata['depth']\n",
    "label = npdata['label']\n",
    "print(depth[depth == 800].shape)\n",
    "print(label[label == 1].shape)\n",
    "print(label[3305])"
   ]
  }
 ],
 "metadata": {
  "kernelspec": {
   "display_name": "Python 3 (ipykernel)",
   "language": "python",
   "name": "python3"
  },
  "language_info": {
   "codemirror_mode": {
    "name": "ipython",
    "version": 3
   },
   "file_extension": ".py",
   "mimetype": "text/x-python",
   "name": "python",
   "nbconvert_exporter": "python",
   "pygments_lexer": "ipython3",
   "version": "3.10.0"
  },
  "vscode": {
   "interpreter": {
    "hash": "369f2c481f4da34e4445cda3fffd2e751bd1c4d706f27375911949ba6bb62e1c"
   }
  }
 },
 "nbformat": 4,
 "nbformat_minor": 4
}
